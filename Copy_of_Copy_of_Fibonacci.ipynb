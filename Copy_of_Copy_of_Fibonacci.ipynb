{
  "nbformat": 4,
  "nbformat_minor": 0,
  "metadata": {
    "colab": {
      "name": "Copy of Copy of Fibonacci.ipynb",
      "version": "0.3.2",
      "provenance": []
    },
    "kernelspec": {
      "name": "python3",
      "display_name": "Python 3"
    }
  },
  "cells": [
    {
      "cell_type": "code",
      "metadata": {
        "id": "Sjs8cMvesDVH",
        "colab_type": "code",
        "outputId": "918f96d7-4a44-41b3-ae7a-ec5c441780ba",
        "colab": {
          "base_uri": "https://localhost:8080/",
          "height": 289
        }
      },
      "source": [
        "!apt-get install graphviz libgraphviz-dev\n",
        "!pip install git+https://github.com/superbobry/rcviz"
      ],
      "execution_count": 0,
      "outputs": [
        {
          "output_type": "stream",
          "text": [
            "Reading package lists... Done\n",
            "Building dependency tree       \n",
            "Reading state information... Done\n",
            "graphviz is already the newest version (2.40.1-2).\n",
            "libgraphviz-dev is already the newest version (2.40.1-2).\n",
            "0 upgraded, 0 newly installed, 0 to remove and 8 not upgraded.\n",
            "Collecting git+https://github.com/superbobry/rcviz\n",
            "  Cloning https://github.com/superbobry/rcviz to /tmp/pip-req-build-y5fle5ah\n",
            "  Running command git clone -q https://github.com/superbobry/rcviz /tmp/pip-req-build-y5fle5ah\n",
            "Requirement already satisfied (use --upgrade to upgrade): rcviz==0.1 from git+https://github.com/superbobry/rcviz in /usr/local/lib/python3.6/dist-packages\n",
            "Requirement already satisfied: pygraphviz in /usr/local/lib/python3.6/dist-packages (from rcviz==0.1) (1.5)\n",
            "Building wheels for collected packages: rcviz\n",
            "  Building wheel for rcviz (setup.py) ... \u001b[?25l\u001b[?25hdone\n",
            "  Created wheel for rcviz: filename=rcviz-0.1-cp36-none-any.whl size=2484 sha256=119e5a49d4285645ebfdd80c9b4a5353f58dde82255b45d9697bec5d670f013f\n",
            "  Stored in directory: /tmp/pip-ephem-wheel-cache-oyg0dcrv/wheels/3c/b6/42/5dff61569b127dd87d4d1605da672d0552ca8dd19029b42091\n",
            "Successfully built rcviz\n"
          ],
          "name": "stdout"
        }
      ]
    },
    {
      "cell_type": "markdown",
      "metadata": {
        "id": "qqdNREm7MVQQ",
        "colab_type": "text"
      },
      "source": [
        "# First try with Fibonacci numbers"
      ]
    },
    {
      "cell_type": "code",
      "metadata": {
        "id": "OE5rpQLSslqe",
        "colab_type": "code",
        "colab": {}
      },
      "source": [
        "import matplotlib.pyplot as plt\n",
        "import numpy as np\n",
        "from PIL import Image\n",
        "%matplotlib inline"
      ],
      "execution_count": 0,
      "outputs": []
    },
    {
      "cell_type": "code",
      "metadata": {
        "id": "ejpG9m0ICRji",
        "colab_type": "code",
        "colab": {}
      },
      "source": [
        "#helper time function\n",
        "import time\n",
        "def timed(f,*args,n_iter=100):\n",
        "  acc = float('inf')\n",
        "  for i in range(n_iter):\n",
        "    t0=time.perf_counter()\n",
        "    f(*args)\n",
        "    t1=time.perf_counter()\n",
        "    acc = min(acc,t1-t0)\n",
        "  return acc"
      ],
      "execution_count": 0,
      "outputs": []
    },
    {
      "cell_type": "code",
      "metadata": {
        "id": "VV84qn4NM9jw",
        "colab_type": "code",
        "colab": {}
      },
      "source": [
        "def compare(fs, args):\n",
        "  for f in fs:\n",
        "    plt.plot(args, [timed(f, arg) for arg in args], label = f.__name__)\n",
        "    plt.legend()"
      ],
      "execution_count": 0,
      "outputs": []
    },
    {
      "cell_type": "markdown",
      "metadata": {
        "id": "pX-DrvBRMeLI",
        "colab_type": "text"
      },
      "source": [
        "## Here you need to implement recursive Fibonacci function (just by definition)"
      ]
    },
    {
      "cell_type": "code",
      "metadata": {
        "id": "kjQHmMMoAJ4T",
        "colab_type": "code",
        "colab": {}
      },
      "source": [
        "def fib1(n):\n",
        "  assert n>=0\n",
        "  return n if n<=1 else fib1(n-1)+fib1(n-2)"
      ],
      "execution_count": 0,
      "outputs": []
    },
    {
      "cell_type": "code",
      "metadata": {
        "id": "WYEfUnn6u_fh",
        "colab_type": "code",
        "colab": {}
      },
      "source": [
        "from rcviz import viz\n",
        "\n",
        "fib1=viz(fib1)"
      ],
      "execution_count": 0,
      "outputs": []
    },
    {
      "cell_type": "code",
      "metadata": {
        "id": "OxgFNTRTvFnR",
        "colab_type": "code",
        "outputId": "86b6730b-c95d-41ec-fea9-af55974db230",
        "colab": {
          "base_uri": "https://localhost:8080/",
          "height": 258
        }
      },
      "source": [
        "fib1(5)"
      ],
      "execution_count": 0,
      "outputs": [
        {
          "output_type": "stream",
          "text": [
            "rendered to fib1.png\n"
          ],
          "name": "stdout"
        },
        {
          "output_type": "stream",
          "text": [
            "/usr/local/lib/python3.6/dist-packages/pygraphviz/agraph.py:1367: RuntimeWarning: Warning: flat edge between adjacent nodes one of which has a record shape - replace records with HTML-like labels\n",
            "  Edge 63327640 -> 63027480\n",
            "Error: lost 63327064 63329368 edge\n",
            "Error: lost 43063448 63025176 edge\n",
            "Error: lost 63327640 63027480 edge\n",
            "Error: lost 43047128 63022104 edge\n",
            "Error: lost 63025944 63275480 edge\n",
            "Error: lost 63328792 43066136 edge\n",
            "Error: lost 63279512 63037336 edge\n",
            "\n",
            "  warnings.warn(b\"\".join(errors).decode(self.encoding), RuntimeWarning)\n"
          ],
          "name": "stderr"
        },
        {
          "output_type": "execute_result",
          "data": {
            "text/plain": [
              "5"
            ]
          },
          "metadata": {
            "tags": []
          },
          "execution_count": 12
        }
      ]
    },
    {
      "cell_type": "code",
      "metadata": {
        "id": "SDs9NZq1vHcw",
        "colab_type": "code",
        "outputId": "542d9432-3177-4a89-a352-2d3aaf94cead",
        "colab": {
          "base_uri": "https://localhost:8080/",
          "height": 526
        }
      },
      "source": [
        "Image.open('fib1.png')"
      ],
      "execution_count": 0,
      "outputs": [
        {
          "output_type": "execute_result",
          "data": {
            "image/png": "[encoded data removed]",
            "text/plain": [
              "<PIL.PngImagePlugin.PngImageFile image mode=RGBA size=611x509 at 0x7F5E0B8B74A8>"
            ]
          },
          "metadata": {
            "tags": []
          },
          "execution_count": 13
        }
      ]
    },
    {
      "cell_type": "markdown",
      "metadata": {
        "id": "OejKbrmMMu0a",
        "colab_type": "text"
      },
      "source": [
        "## Here you need to implement non-recursive version\n",
        "\n",
        "Use pre-computed numbers"
      ]
    },
    {
      "cell_type": "code",
      "metadata": {
        "id": "0rdmy3yAvMKC",
        "colab_type": "code",
        "colab": {}
      },
      "source": [
        "def fib2(n):\n",
        "    assert n>=0\n",
        "    f0,f1=0,1\n",
        "    for i in range(n-1):\n",
        "      f0,f1 = f1,f0+f1\n",
        "    return f1"
      ],
      "execution_count": 0,
      "outputs": []
    },
    {
      "cell_type": "code",
      "metadata": {
        "id": "8M_SZKB7A9CC",
        "colab_type": "code",
        "colab": {}
      },
      "source": [
        "fib2=viz(fib2)"
      ],
      "execution_count": 0,
      "outputs": []
    },
    {
      "cell_type": "code",
      "metadata": {
        "id": "LT9GVv1wBDsJ",
        "colab_type": "code",
        "outputId": "0c7ff368-25c6-4e80-aabc-bc84b3e82256",
        "colab": {
          "base_uri": "https://localhost:8080/",
          "height": 34
        }
      },
      "source": [
        "fib2(5)"
      ],
      "execution_count": 0,
      "outputs": [
        {
          "output_type": "execute_result",
          "data": {
            "text/plain": [
              "5"
            ]
          },
          "metadata": {
            "tags": []
          },
          "execution_count": 58
        }
      ]
    },
    {
      "cell_type": "code",
      "metadata": {
        "id": "6O5eQYqABFEp",
        "colab_type": "code",
        "outputId": "f83cfa9c-c6f1-4355-9b2b-62c089f3086d",
        "colab": {
          "base_uri": "https://localhost:8080/",
          "height": 89
        }
      },
      "source": [
        "Image.open('fib2.png')"
      ],
      "execution_count": 0,
      "outputs": [
        {
          "output_type": "execute_result",
          "data": {
            "image/png": "[encoded data removed]",
            "text/plain": [
              "<PIL.PngImagePlugin.PngImageFile image mode=RGBA size=83x72 at 0x7F9F4049C748>"
            ]
          },
          "metadata": {
            "tags": []
          },
          "execution_count": 32
        }
      ]
    },
    {
      "cell_type": "markdown",
      "metadata": {
        "id": "8r9pRB0LNDD0",
        "colab_type": "text"
      },
      "source": [
        "## Compare speed with the helper function provided (called compare)\n",
        "\n",
        "Compare time for 7 number with the timed function and plot graph with the compare function"
      ]
    },
    {
      "cell_type": "code",
      "metadata": {
        "id": "AWi6NipeBHhY",
        "colab_type": "code",
        "outputId": "5568fd0c-88be-420b-f5ea-a4db8bc5d06c",
        "colab": {
          "base_uri": "https://localhost:8080/",
          "height": 34
        }
      },
      "source": [
        "timed(fib1, 5 )"
      ],
      "execution_count": 0,
      "outputs": [
        {
          "output_type": "execute_result",
          "data": {
            "text/plain": [
              "2.5870003810268827e-06"
            ]
          },
          "metadata": {
            "tags": []
          },
          "execution_count": 42
        }
      ]
    },
    {
      "cell_type": "code",
      "metadata": {
        "id": "NGdEdlpIDnOp",
        "colab_type": "code",
        "outputId": "65d1fbe6-2675-4126-92b3-401ca64c04c9",
        "colab": {
          "base_uri": "https://localhost:8080/",
          "height": 34
        }
      },
      "source": [
        "timed(fib2, 5)"
      ],
      "execution_count": 0,
      "outputs": [
        {
          "output_type": "execute_result",
          "data": {
            "text/plain": [
              "7.699991328991018e-07"
            ]
          },
          "metadata": {
            "tags": []
          },
          "execution_count": 46
        }
      ]
    },
    {
      "cell_type": "code",
      "metadata": {
        "id": "WQ84UgdWFFh5",
        "colab_type": "code",
        "outputId": "00ae84a9-3349-49e0-da5d-5ef92922f202",
        "colab": {
          "base_uri": "https://localhost:8080/",
          "height": 269
        }
      },
      "source": [
        "compare([fib1,fib2], list(range(9)))"
      ],
      "execution_count": 0,
      "outputs": [
        {
          "output_type": "display_data",
          "data": {
            "image/png": "[encoded data removed]",
            "text/plain": [
              "<Figure size 432x288 with 1 Axes>"
            ]
          },
          "metadata": {
            "tags": []
          }
        }
      ]
    },
    {
      "cell_type": "code",
      "metadata": {
        "id": "dhCC7UaqFIqF",
        "colab_type": "code",
        "colab": {}
      },
      "source": [
        ""
      ],
      "execution_count": 0,
      "outputs": []
    }
  ]
}