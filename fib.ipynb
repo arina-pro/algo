# To add a new cell, type '#%%'
# To add a new markdown cell, type '#%% [markdown]'
#%%
from IPython import get_ipython

#%%
get_ipython().system('apt-get install graphviz libgraphviz-dev')
get_ipython().system('pip install git+https://github.com/superbobry/rcviz')

#%% [markdown]
# # First try with Fibonacci numbers

#%%
import matplotlib.pyplot as plt
import numpy as np
from PIL import Image
get_ipython().run_line_magic('matplotlib', 'inline')


#%%
#helper time function
import time
def timed(f,*args,n_iter=100):
  acc = float('inf')
  for i in range(n_iter):
    t0=time.perf_counter()
    f(*args)
    t1=time.perf_counter()
    acc = min(acc,t1-t0)
  return acc


#%%
def compare(fs, args):
  for f in fs:
    plt.plot(args, [timed(f, arg) for arg in args], label = f.__name__)
    plt.legend()

#%% [markdown]
# ## Here you need to implement recursive Fibonacci function (just by definition)

#%%
def fib1(n):
  assert n>=0
  return n if n<=1 else fib1(n-1)+fib1(n-2)


#%%
from rcviz import viz

fib1=viz(fib1)


#%%
fib1(5)


#%%
Image.open('fib1.png')

#%% [markdown]
# ## Here you need to implement non-recursive version
# 
# Use pre-computed numbers

#%%
def fib2(n):
    assert n>=0
    f0,f1=0,1
    for i in range(n-1):
      f0,f1 = f1,f0+f1
    return f1


#%%
fib2=viz(fib2)


#%%
fib2(5)


#%%
Image.open('fib2.png')

#%% [markdown]
# ## Compare speed with the helper function provided (called compare)
# 
# Compare time for 7 number with the timed function and plot graph with the compare function

#%%
timed(fib1, 5 )


#%%
timed(fib2, 5)


#%%
compare([fib1,fib2], list(range(9)))


#%%



